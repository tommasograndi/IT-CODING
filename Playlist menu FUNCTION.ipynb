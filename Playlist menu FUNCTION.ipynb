{
 "cells": [
  {
   "cell_type": "markdown",
   "id": "2254eab0",
   "metadata": {},
   "source": [
    "## YOUTUBE PLAYLIST MENU"
   ]
  },
  {
   "cell_type": "markdown",
   "id": "ea1228b4",
   "metadata": {},
   "source": [
    "#### EXECUTE THIS BEFORE CALLING THE FUNCTION:"
   ]
  },
  {
   "cell_type": "code",
   "execution_count": 10,
   "id": "bf871227",
   "metadata": {},
   "outputs": [],
   "source": [
    "import webbrowser  #webbrowser is a library used here to open a youtube URL with the requested playlist\n",
    "import os\n",
    "\n",
    "\n",
    "playlists = [\"Rock\", \"Jazz\", \"Classical\", \"Electronic\", \"Rap\"] #define the original of playlists\n",
    "\n",
    "def printmenu():\n",
    "    print(\"Here are all the available playlists, choose your favorite by pressing the corresponding index number:\")\n",
    "\n",
    "    for index, play in enumerate(playlists):  \n",
    "        #Enumerate function is used to return an enumerate object, in order to access it's index. \n",
    "        print((index+1), \":\", play)\n",
    "    return \n",
    "\n",
    "\n",
    "def youtubeplaylist():\n",
    "    printmenu()\n",
    "    print(\"\\n\")\n",
    "    \n",
    "    while True:\n",
    "        try:\n",
    "            selection = int(input(\"Enter the number referred to your choice, or press 0 to insert a new playlist: \"))\n",
    "        except ValueError:\n",
    "            os.system('clear')\n",
    "            print(\"Warning! Please enter a valid integer for your selection, not a string. \\n\")\n",
    "            continue\n",
    "        else:\n",
    "            if (selection == 0): #if 0 is pressed, we append a new playlist to the existing list\n",
    "                playlists.append(input((\"Type here the playlist you want to request: \")))\n",
    "                print(\"\\n\")\n",
    "                printmenu() #recall the menu function to show again the playlists and the new one\n",
    "                print(\"\\n\")\n",
    "                continue\n",
    "            elif (selection < 0 or selection > len(playlists)):  #check if the playlist index is valid\n",
    "                print(\"Warning! There is no playlist linked to this index, enter a valid index.\")\n",
    "                print(\"\\n\")\n",
    "                printmenu() #recall the menu function to show again the playlists and the new one\n",
    "                print(\"\\n\")\n",
    "                continue\n",
    "            else:  #if any other selection is made and no error is raise, we can exit the while loop\n",
    "                print(\"The playlist you choosed is\", playlists[selection-1], \"\\n\")\n",
    "                break\n",
    "    \n",
    "    #Store the chosen playlist with a related URL in the variable link\n",
    "    link = \"https://www.youtube.com/results?search_query=\"+ playlists[selection-1] + \"+playlist&sp=CAE%253D\"\n",
    "    link\n",
    "    #the last bit of the link is used to return a selection on playlist sorted by vote\n",
    "    \n",
    "    while True:\n",
    "        out = input(\"Press 'y' to open the Youtube page or 'n' to print the pagelink: \")\n",
    "        if (out == \"y\"): \n",
    "            webbrowser.open_new_tab(link)\n",
    "            break \n",
    "        elif (out == \"n\"): \n",
    "            print(link)\n",
    "            break\n",
    "        else:\n",
    "            print(\"You pressed the wrong key.\")\n",
    "            continue\n",
    "    return"
   ]
  },
  {
   "cell_type": "markdown",
   "id": "984cfd8e",
   "metadata": {},
   "source": [
    "#### EXECUTE THIS TO CALL THE FUNCTION"
   ]
  },
  {
   "cell_type": "code",
   "execution_count": 11,
   "id": "6215b410",
   "metadata": {},
   "outputs": [
    {
     "name": "stdout",
     "output_type": "stream",
     "text": [
      "Here are all the available playlists, choose your favorite by pressing the corresponding index number:\n",
      "1 : Rock\n",
      "2 : Jazz\n",
      "3 : Classical\n",
      "4 : Electronic\n",
      "5 : Rap\n",
      "\n",
      "\n",
      "Enter the number referred to your choice, or press 0 to insert a new playlist: 0\n",
      "Type here the playlist you want to request: Country\n",
      "\n",
      "\n",
      "Here are all the available playlists, choose your favorite by pressing the corresponding index number:\n",
      "1 : Rock\n",
      "2 : Jazz\n",
      "3 : Classical\n",
      "4 : Electronic\n",
      "5 : Rap\n",
      "6 : Country\n",
      "\n",
      "\n",
      "Enter the number referred to your choice, or press 0 to insert a new playlist: 3\n",
      "The playlist you choosed is Classical \n",
      "\n",
      "Press 'y' to open the Youtube page or 'n' to print the pagelink: p\n",
      "You pressed the wrong key.\n",
      "Press 'y' to open the Youtube page or 'n' to print the pagelink: n\n",
      "https://www.youtube.com/results?search_query=Classical+playlist&sp=CAE%253D\n"
     ]
    }
   ],
   "source": [
    "youtubeplaylist()"
   ]
  },
  {
   "cell_type": "code",
   "execution_count": null,
   "id": "1cc3b421",
   "metadata": {},
   "outputs": [],
   "source": []
  },
  {
   "cell_type": "code",
   "execution_count": null,
   "id": "dbeabd97",
   "metadata": {},
   "outputs": [],
   "source": []
  }
 ],
 "metadata": {
  "kernelspec": {
   "display_name": "Python 3 (ipykernel)",
   "language": "python",
   "name": "python3"
  },
  "language_info": {
   "codemirror_mode": {
    "name": "ipython",
    "version": 3
   },
   "file_extension": ".py",
   "mimetype": "text/x-python",
   "name": "python",
   "nbconvert_exporter": "python",
   "pygments_lexer": "ipython3",
   "version": "3.8.8"
  }
 },
 "nbformat": 4,
 "nbformat_minor": 5
}
