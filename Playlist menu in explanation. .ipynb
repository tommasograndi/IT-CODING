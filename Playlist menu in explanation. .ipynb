{
 "cells": [
  {
   "cell_type": "markdown",
   "id": "bef8be41",
   "metadata": {},
   "source": [
    "## YOUTUBE PLAYLIST MENU."
   ]
  },
  {
   "cell_type": "markdown",
   "id": "e8890f76",
   "metadata": {},
   "source": [
    "### Import the libraries"
   ]
  },
  {
   "cell_type": "code",
   "execution_count": null,
   "id": "7715ec19",
   "metadata": {},
   "outputs": [],
   "source": [
    "import webbrowser  #webbrowser is a library used here to open a youtube URL with the requested playlist\n",
    "import os"
   ]
  },
  {
   "cell_type": "markdown",
   "id": "88ed174d",
   "metadata": {},
   "source": [
    "### PART 1: Function to print the menu. \n",
    "\n",
    "In the first part I have defined the function to print the actual menu of our playlist selection. Moreover, I have defined an initial selection that later on we could change. "
   ]
  },
  {
   "cell_type": "code",
   "execution_count": 78,
   "id": "bfb30341",
   "metadata": {
    "scrolled": true
   },
   "outputs": [],
   "source": [
    "#print all the menu's elements\n",
    "\n",
    "playlists = [\"Rock\", \"Jazz\", \"Classical\", \"Electronic\", \"Rap\"] #define the original set of playlists (arbitrary)\n",
    "\n",
    "def printmenu():\n",
    "    print(\"Here are all the available playlists, choose your favorite by pressing the corresponding index number:\")\n",
    "\n",
    "    for index, play in enumerate(playlists):  \n",
    "        #Enumerate function is used to return an enumerate object, in order to access it's index. \n",
    "        print((index+1), \":\", play)\n",
    "    return "
   ]
  },
  {
   "cell_type": "markdown",
   "id": "8656395f",
   "metadata": {},
   "source": [
    "### PART 2: Input selection.\n",
    "\n",
    "Exception handling is used in the following block to easily re-iterate the process of selecting a menu's element whenever the user digit a string instead of a number or an unavailable element index. \n",
    "* The TRY block let us test a block of code for errors.\n",
    "\n",
    "* The EXCEPT block let us handle the error.\n",
    "\n",
    "* The ELSE block let us execute code when there is no error.\n",
    "\n",
    "I decided also to give the possibility to the user of suggesting new playlists. This is handled by the first if statement in the greater else block. \n",
    "Another important step is to make sure that the index chosen in the selection is valid: not negative, not 0 (that the script use to add a new playlist, and not bigger than the index referred to the last element of the list. "
   ]
  },
  {
   "cell_type": "code",
   "execution_count": null,
   "id": "5b0e88c5",
   "metadata": {},
   "outputs": [],
   "source": [
    "while True:\n",
    "    try:\n",
    "        selection = int(input(\"Enter the number referred to your choice, or press 0 to insert a new playlist: \"))\n",
    "    except ValueError:\n",
    "        os.system('clear')\n",
    "        print(\"Warning! Please enter a valid integer for your selection, not a string. \\n\")\n",
    "        continue\n",
    "    else:\n",
    "        if (selection == 0):\n",
    "            playlists.append(input((\"Type here the playlist you want to request: \")))\n",
    "            print(\"\\n\")\n",
    "            printmenu() #recall the menu function to show again the playlists and the new one\n",
    "            print(\"\\n\")\n",
    "            continue\n",
    "        elif (selection < 0 or selection > len(playlists)):  #check if the playlist index is valid\n",
    "            print(\"Warning! There is no playlist linked to this index, enter a valid index.\")\n",
    "            print(\"\\n\")\n",
    "            printmenu() #recall the menu function to show again the playlists and the new one\n",
    "            print(\"\\n\")\n",
    "            continue\n",
    "        else:\n",
    "            print(\"The playlist you choosed is\", playlists[selection-1], \"\\n\")\n",
    "            break"
   ]
  },
  {
   "cell_type": "markdown",
   "id": "6a2add4b",
   "metadata": {},
   "source": [
    "### PART 3: Open youtube page with suggested playlists.\n",
    "\n",
    "From a simple youtube research, we can find that every youtube URL referred to a research starts with \"https://www.youtube.com/results?search_query=\", is followed by the word searched in the box, and finish with an extension that define the filters used, such as \"+playlist&sp=CAE%253D\". \n",
    "In this case the filters used are search by playlist and sort by vote. \n",
    "Using the webbrowser library we can easily open a youtube link by pasting the string selected previously in the list to the rest of the strings that compose the youtube search URL. "
   ]
  },
  {
   "cell_type": "code",
   "execution_count": null,
   "id": "71edf920",
   "metadata": {
    "scrolled": true
   },
   "outputs": [],
   "source": [
    "#Store the chosen playlist with a related URL in the variable link\n",
    "link = \"https://www.youtube.com/results?search_query=\"+ playlists[selection-1] + \"+playlist&sp=CAE%253D\"\n",
    "link\n",
    "#the last bit of the link is used to return a selection on playlist sorted by vote\n",
    "\n",
    "#the following if statement is used to allow the user to choose between open directly the link or print the URL. \n",
    "\n",
    "while True:\n",
    "    out = input(\"Press 'y' to open the Youtube page or 'n' to print the pagelink: \")\n",
    "    if (out == \"y\"): \n",
    "        webbrowser.open_new_tab(link)\n",
    "        break \n",
    "    elif (out == \"n\"): \n",
    "        print(link)\n",
    "        break\n",
    "    else:\n",
    "        print(\"You pressed the wrong key.\")\n",
    "        continue"
   ]
  }
 ],
 "metadata": {
  "kernelspec": {
   "display_name": "Python 3 (ipykernel)",
   "language": "python",
   "name": "python3"
  },
  "language_info": {
   "codemirror_mode": {
    "name": "ipython",
    "version": 3
   },
   "file_extension": ".py",
   "mimetype": "text/x-python",
   "name": "python",
   "nbconvert_exporter": "python",
   "pygments_lexer": "ipython3",
   "version": "3.8.8"
  }
 },
 "nbformat": 4,
 "nbformat_minor": 5
}
